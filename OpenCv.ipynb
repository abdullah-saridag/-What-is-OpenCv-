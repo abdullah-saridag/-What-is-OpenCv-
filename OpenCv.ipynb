{
 "cells": [
  {
   "cell_type": "markdown",
   "id": "a90db1ba-6346-456c-b18f-a494c03a7eef",
   "metadata": {},
   "source": [
    "# Computer Vision\n",
    "\n",
    "Bilgisayar görüntüsü (Computer Vision), bilgisayarların dijital görüntüler üzerinde işlem yapabilme yeteneğini ifade eder. Bu, bilgisayarların görüntüleri algılamasını, anlamasını ve yorumlamasını sağlayan bir alanı kapsar. Computer Vision, yapay zeka ve makine öğrenimi tekniklerini kullanarak görüntülerden bilgi çıkarmak, nesneleri tanımak, görüntüleri sınıflandırmak, insan davranışlarını analiz etmek, 3B model oluşturmak gibi çeşitli görevleri gerçekleştirebilir."
   ]
  },
  {
   "cell_type": "markdown",
   "id": "ebfa1415-77ef-4991-9a36-5cfa1cb92932",
   "metadata": {},
   "source": [
    "### OpenCv Kütüphanesi Kullanımı\n",
    "OpenCv kütüphanesi kullanarak aşağıdaki işlemler yapılabilir:\n",
    "\n",
    "1- Görüntü Bileşenleri Ayrıştırma\n",
    "2- Resim Birleştirme\n",
    "3- Temel Geometrik Dönüşümler\n",
    "4- Resim Özellikleri Çıkarma\n",
    "5- Görüntü Segmentasyonu"
   ]
  },
  {
   "cell_type": "markdown",
   "id": "bf8597a7-af19-4875-9ea5-9fb77b63b804",
   "metadata": {},
   "source": [
    "### 0- Kütüphanenin kurulumu"
   ]
  },
  {
   "cell_type": "code",
   "execution_count": 6,
   "id": "e8300d50-497c-42e1-ac2b-cc458bffa579",
   "metadata": {},
   "outputs": [],
   "source": [
    "import cv2"
   ]
  },
  {
   "cell_type": "markdown",
   "id": "3a012d5b-7d9d-4b64-82fd-0539628cd9ab",
   "metadata": {},
   "source": [
    "### 1- Görüntü Bileşenleri Ayırma"
   ]
  },
  {
   "cell_type": "code",
   "execution_count": 8,
   "id": "16af5290-9980-42ea-86f9-c4266926ae24",
   "metadata": {},
   "outputs": [],
   "source": [
    "import cv2\n",
    "# Kütüphaneyi ekledikten sonra resmi yükleyin.\n",
    "image = cv2.imread('resim.jpg')\n",
    "\n",
    "# Görüntüyü RGB formatından HSV formatına dönüştürelim.\n",
    "hsv_image = cv2.cvtColor(image, cv2.COLOR_BGR2HSV)\n",
    "\n",
    "# HSV formatında görüntüyü bileşenlere ayıralım.\n",
    "h, s, v = cv2.split(hsv_image)\n",
    "\n",
    "# Bileşenleri ekranda gösterelim\n",
    "cv2.imshow('Hue (Renk)', h)\n",
    "cv2.imshow('Saturation (Doygunluk)', s)\n",
    "cv2.imshow('Value (Parlaklık)', v)\n",
    "\n",
    "# Çıkış için 0 tuşuna basın\n",
    "cv2.waitKey(0)\n",
    "cv2.destroyAllWindows()"
   ]
  },
  {
   "cell_type": "markdown",
   "id": "474f1e1f-1f51-4097-b13b-2997d2f13464",
   "metadata": {},
   "source": [
    "### 2- Resim Birleştirme"
   ]
  },
  {
   "cell_type": "code",
   "execution_count": 11,
   "id": "3be2c9b7-6708-4de3-9ab5-215ce741fef0",
   "metadata": {},
   "outputs": [],
   "source": [
    "import cv2\n",
    "# İlk resmi yükleyelim\n",
    "image1 = cv2.imread('resim.jpg')\n",
    "\n",
    "# İkinci resmi yükleyelim\n",
    "image2 = cv2.imread('resim2.jpg')\n",
    "\n",
    "# İlk resmi üzerine ikinci resmi ekleyerek birleştirelim\n",
    "merged_image = cv2.addWeighted(image1, 1, image2, 1, 0)\n",
    "\n",
    "# Birleştirilmiş resmi gösterelim.\n",
    "# Çıkış için 0 tuşuna basın.\n",
    "cv2.imshow('Birleştirilmiş Resim', merged_image)\n",
    "cv2.waitKey(0)\n",
    "cv2.destroyAllWindows()\n",
    "\n",
    "\n",
    "\n"
   ]
  },
  {
   "cell_type": "markdown",
   "id": "1384bf1c-b05d-4ff2-a44b-0740b99eba31",
   "metadata": {},
   "source": [
    "### 3- Temel Geometrik Dönüşümler."
   ]
  },
  {
   "cell_type": "code",
   "execution_count": 12,
   "id": "b265a851-406a-49c5-af2f-3e8cfaf6087f",
   "metadata": {},
   "outputs": [],
   "source": [
    "import cv2\n",
    "\n",
    "# Resmi yükleyelim\n",
    "image = cv2.imread('resim.jpg')\n",
    "\n",
    "# Resmi 45 derece döndürelim\n",
    "height, width = image.shape[:2]\n",
    "rotation_matrix = cv2.getRotationMatrix2D((width / 2, height / 2), 45, 1)\n",
    "rotated_image = cv2.warpAffine(image, rotation_matrix, (width, height))\n",
    "\n",
    "# Resmi yeniden boyutlandıralım\n",
    "resized_image = cv2.resize(image, (width // 2, height // 2))\n",
    "\n",
    "# Resmi kırpalım\n",
    "cropped_image = image[100:300, 200:400]\n",
    "\n",
    "# Dönüştürülmüş resimleri gösterelim\n",
    "cv2.imshow('Orijinal Resim', image)\n",
    "cv2.imshow('Döndürülmüş Resim', rotated_image)\n",
    "cv2.imshow('Yeniden Boyutlandırılmış Resim', resized_image)\n",
    "cv2.imshow('Kırpılmış Resim', cropped_image)\n",
    "\n",
    "# Çıkış için 0 tuşuna basın\n",
    "cv2.waitKey(0)\n",
    "cv2.destroyAllWindows()\n",
    "\n",
    "\n",
    "\n"
   ]
  },
  {
   "cell_type": "markdown",
   "id": "6fda84f5",
   "metadata": {},
   "source": [
    "### 4- Resim Özellikleri Çıkartma."
   ]
  },
  {
   "cell_type": "code",
   "execution_count": 1,
   "id": "cdd6cedb-70b0-4b92-bb7e-406f08523a2e",
   "metadata": {},
   "outputs": [
    {
     "name": "stdout",
     "output_type": "stream",
     "text": [
      "Resmin Boyutları: 225 x 225\n",
      "Resmin Kanal Sayısı: 3\n",
      "Resmin Yoğunluğu: 101.30149135802469\n",
      "Resmin Ortalama Rengi (RGB): (101.30149135802469, 42.23043950617284, 42.541313580246914, 0.0)\n"
     ]
    }
   ],
   "source": [
    "import cv2\n",
    "\n",
    "# Resmi yükleyelim\n",
    "image = cv2.imread('resim.jpg')\n",
    "\n",
    "# Resmin boyutlarını alalım\n",
    "height, width, channels = image.shape\n",
    "\n",
    "# Resmin yoğunluğunu hesaplayalım\n",
    "intensity = cv2.mean(image)[0]\n",
    "\n",
    "# Resmin rengini hesaplayalım\n",
    "average_color = cv2.mean(image)\n",
    "\n",
    "# Sonucu ekrana yazdıralım\n",
    "print(\"Resmin Boyutları:\", width, \"x\", height)\n",
    "print(\"Resmin Kanal Sayısı:\", channels)\n",
    "print(\"Resmin Yoğunluğu:\", intensity)\n",
    "print(\"Resmin Ortalama Rengi (RGB):\", average_color)\n",
    "\n",
    "# Resmi gösterelim\n",
    "cv2.imshow('Resim', image)\n",
    "# Çıkış için 0 tuşuna basın.\n",
    "cv2.waitKey(0)\n",
    "cv2.destroyAllWindows()"
   ]
  },
  {
   "cell_type": "markdown",
   "id": "0cfadb5c",
   "metadata": {},
   "source": [
    "### 5- Görüntü Segmantasyonu"
   ]
  },
  {
   "cell_type": "code",
   "execution_count": 2,
   "id": "1b421299-93ba-4bd3-b834-9b7e6a312c1e",
   "metadata": {},
   "outputs": [],
   "source": [
    "import cv2\n",
    "\n",
    "# Resmi yükleyelim\n",
    "image = cv2.imread('resim.jpg')\n",
    "\n",
    "# Resmi RGB formatından HSV formatına dönüştürelim\n",
    "hsv_image = cv2.cvtColor(image, cv2.COLOR_BGR2HSV)\n",
    "\n",
    "# Mavi renk için alt ve üst aralığı tanımlayalım\n",
    "lower_blue = (90, 50, 50)\n",
    "upper_blue = (130, 255, 255)\n",
    "\n",
    "# Maske oluşturalım\n",
    "mask = cv2.inRange(hsv_image, lower_blue, upper_blue)\n",
    "\n",
    "# Maskelenmiş resmi alalım\n",
    "segmented_image = cv2.bitwise_and(image, image, mask=mask)\n",
    "\n",
    "# Sonucu gösterelim\n",
    "cv2.imshow('Orijinal Resim', image)\n",
    "cv2.imshow('Maskelenmiş Resim', segmented_image)\n",
    "# Çıkış için 0 tuşuna basalım\n",
    "cv2.waitKey(0)\n",
    "cv2.destroyAllWindows()"
   ]
  }
 ],
 "metadata": {
  "kernelspec": {
   "display_name": "Python 3 (ipykernel)",
   "language": "python",
   "name": "python3"
  },
  "language_info": {
   "codemirror_mode": {
    "name": "ipython",
    "version": 3
   },
   "file_extension": ".py",
   "mimetype": "text/x-python",
   "name": "python",
   "nbconvert_exporter": "python",
   "pygments_lexer": "ipython3",
   "version": "3.12.3"
  }
 },
 "nbformat": 4,
 "nbformat_minor": 5
}
